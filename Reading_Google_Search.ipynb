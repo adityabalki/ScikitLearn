{
 "cells": [
  {
   "cell_type": "code",
   "execution_count": 3,
   "metadata": {},
   "outputs": [],
   "source": [
    "from selenium import webdriver\n",
    "from selenium.webdriver.common.keys import Keys"
   ]
  },
  {
   "cell_type": "code",
   "execution_count": 9,
   "metadata": {
    "scrolled": true
   },
   "outputs": [
    {
     "name": "stdout",
     "output_type": "stream",
     "text": [
      "Enter String to Search on Google: Parent of OPPO\n",
      "Parent of OPPO is BBK Electronics\n"
     ]
    }
   ],
   "source": [
    "string=input(\"Enter String to Search on Google: \")\n",
    "browser  = webdriver.Chrome(\"E:\\chromedriver.exe\")\n",
    "browser.get('http://www.google.com')\n",
    "search = browser.find_element_by_name('q')\n",
    "search.send_keys(string)\n",
    "search.send_keys(Keys.RETURN) # hit return after you enter search text\n",
    "#time.sleep(5) # sleep for 5 seconds so you can see the results\n",
    "element = browser.find_element_by_class_name(\"kp-header\").text\n",
    "browser.quit()\n",
    "print (string+' is',element)\n",
    "\n",
    "\n"
   ]
  }
 ],
 "metadata": {
  "kernelspec": {
   "display_name": "Python 3",
   "language": "python",
   "name": "python3"
  },
  "language_info": {
   "codemirror_mode": {
    "name": "ipython",
    "version": 3
   },
   "file_extension": ".py",
   "mimetype": "text/x-python",
   "name": "python",
   "nbconvert_exporter": "python",
   "pygments_lexer": "ipython3",
   "version": "3.7.3"
  }
 },
 "nbformat": 4,
 "nbformat_minor": 2
}
